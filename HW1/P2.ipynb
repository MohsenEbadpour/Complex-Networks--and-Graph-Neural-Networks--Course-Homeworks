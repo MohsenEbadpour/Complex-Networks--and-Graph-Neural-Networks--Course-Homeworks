{
 "cells": [
  {
   "cell_type": "code",
   "execution_count": null,
   "metadata": {},
   "outputs": [],
   "source": [
    "import numpy as np \n",
    "import matplotlib.pyplot as plt \n",
    "from itertools import combinations\n",
    "from random import sample\n",
    "import seaborn as sns\n",
    "import networkx as nx \n",
    "sns.set_style(\"darkgrid\")\n"
   ]
  },
  {
   "cell_type": "code",
   "execution_count": null,
   "metadata": {},
   "outputs": [],
   "source": [
    "plt.rcParams['figure.figsize'] = (28, 24)\n",
    "N_s = [5,10,20,50,100,200,500,1000,1500]\n",
    "w,h,i = 3,3,1\n",
    "for N in N_s:\n",
    "    plt.subplot(h,w,i)\n",
    "    i+=1\n",
    "    N_1 = N-1\n",
    "\n",
    "    Ps = np.arange(0.,10,0.1)\n",
    "    Values = []\n",
    "\n",
    "    for p in Ps:\n",
    "        graph_er = nx.erdos_renyi_graph(n=N,p=p/N_1)\n",
    "        CCs = max([graph_er.subgraph(c) for c in nx.connected_components(graph_er)], key=len)\n",
    "        Values.append(CCs.number_of_nodes()/N)\n",
    "        #nx.draw_networkx(graph_er,with_labels=False,style=\"--\",alpha=0.5,node_size=50)\n",
    "        \n",
    "    plt.scatter(Ps,Values)   \n",
    "    plt.plot([0,1,1],[0,0,1],color=\"red\")\n",
    "    plt.title(\"Fraction of nodes in largest CC/C | N:\"+str(N))\n",
    "    plt.xlabel(\"C\")\n",
    "    plt.ylabel(\"Fraction of nodes in largest CC\")\n",
    "plt.show()\n",
    "    "
   ]
  },
  {
   "cell_type": "code",
   "execution_count": null,
   "metadata": {},
   "outputs": [],
   "source": [
    "P_s = [0.5,1,1.5,2,2.5,3,3.5,np.log(N),2*np.log(N)]\n",
    "plt.rcParams['figure.figsize'] = (21,21)\n",
    "N=400\n",
    "N_1 = N-1\n",
    "h,w,i=3,3,1\n",
    "Ps = np.arange(0.,10,0.1)\n",
    "Values = []\n",
    "\n",
    "for p in P_s:\n",
    "    plt.subplot(h,w,i)\n",
    "    i+=1\n",
    "    graph_er = nx.erdos_renyi_graph(n=N,p=p/N_1)\n",
    "    CCs = max([graph_er.subgraph(c) for c in nx.connected_components(graph_er)], key=len)\n",
    "    CCs = round(CCs.number_of_nodes()/N,3)\n",
    "    nx.draw_networkx(graph_er,with_labels=False,style=\"--\",alpha=0.2,node_size=50)\n",
    "    lab = str(p)\n",
    "    if abs(p - np.log(N)) <= 0.01:\n",
    "        lab = \"log(n)\"\n",
    "    elif abs(p - 2*np.log(N))<= 0.01:\n",
    "        lab = \"2log(n)\"\n",
    "        \n",
    "    plt.title(\"Graph plot | N:400 | Largest CC: {0} | C:{1}\".format(CCs,lab))\n",
    "plt.show()"
   ]
  },
  {
   "cell_type": "code",
   "execution_count": null,
   "metadata": {},
   "outputs": [],
   "source": []
  },
  {
   "cell_type": "code",
   "execution_count": null,
   "metadata": {},
   "outputs": [],
   "source": []
  }
 ],
 "metadata": {
  "kernelspec": {
   "display_name": "Python 3.9.12 ('base')",
   "language": "python",
   "name": "python3"
  },
  "language_info": {
   "codemirror_mode": {
    "name": "ipython",
    "version": 3
   },
   "file_extension": ".py",
   "mimetype": "text/x-python",
   "name": "python",
   "nbconvert_exporter": "python",
   "pygments_lexer": "ipython3",
   "version": "3.9.12"
  },
  "orig_nbformat": 4,
  "vscode": {
   "interpreter": {
    "hash": "dc8f41598815372d424d3d64f4c954dc34c138854ca7d29dfa59a43d1be47155"
   }
  }
 },
 "nbformat": 4,
 "nbformat_minor": 2
}
